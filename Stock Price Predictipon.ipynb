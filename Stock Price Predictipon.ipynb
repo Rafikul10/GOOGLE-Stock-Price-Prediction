{
 "cells": [
  {
   "cell_type": "markdown",
   "id": "f6c8bad0",
   "metadata": {},
   "source": [
    "# GOOGLE Stock Price Prediction"
   ]
  },
  {
   "cell_type": "markdown",
   "id": "346cc755",
   "metadata": {},
   "source": [
    "# Introduction :\n",
    "A stock price is the current price at which a particular stock is trading on the market. It is determined by the supply and demand for the stock in the market, as well as other factors such as the company's financial performance and the overall state of the economy.\n",
    "Stock prices are quoted on stock exchanges, such as the New York Stock Exchange (NYSE) and the NASDAQ. They are typically expressed in terms of dollars and cents, and can fluctuate significantly over time.\n",
    "Investors buy and sell stocks in order to participate in the ownership and potential growth of a company. The price of a stock is an important factor in determining the value of an investment, as it reflects the perceived value of the company and its future potential."
   ]
  },
  {
   "cell_type": "markdown",
   "id": "810abd04",
   "metadata": {},
   "source": [
    "# DataSet :\n",
    "In this project i colected the Google stock price data for past 10 years by using yfinance.\n",
    "yfinance is a Python module that allows you to retrieve stock price data and other financial information from Yahoo Finance. It is a third-party library.\n",
    "You can use yfinance to retrieve data for a specific stock or a group of stocks, such as the S&P 500 index. It allows you to specify the time period for the data, and provides various options for filtering and formatting the data.\n"
   ]
  },
  {
   "cell_type": "markdown",
   "id": "e7f10508",
   "metadata": {},
   "source": [
    "# Dependencies :\n",
    "- jupyter Notebook\n",
    "- Python 3.7.15\n",
    "- yfinance\n",
    "- Numpy\n",
    "- Scikit-Learn\n",
    "\n",
    "Install dependencies using [conda](https://docs.conda.io/en/latest/)"
   ]
  },
  {
   "cell_type": "markdown",
   "id": "b41e1216",
   "metadata": {},
   "source": [
    "# ToDO :\n",
    "- Get the Google stock price data from yfinance\n",
    "- Split the data into a training set and a test set\n",
    "- Extract the stock prices from the data and convert them to a numpy array\n",
    "- Build a random forest regression model\n",
    "- Predict the model in test data\n",
    "- Save the model in .pkl file "
   ]
  },
  {
   "cell_type": "code",
   "execution_count": 1,
   "id": "f1b422fe",
   "metadata": {},
   "outputs": [],
   "source": [
    "# import modules\n",
    "import yfinance as yf\n",
    "import numpy as np\n",
    "from sklearn.ensemble import RandomForestRegressor\n",
    "from sklearn.linear_model import LogisticRegression"
   ]
  },
  {
   "cell_type": "code",
   "execution_count": 2,
   "id": "6c70e237",
   "metadata": {},
   "outputs": [],
   "source": [
    "# Get the Google stock price data\n",
    "ticker = yf.Ticker(\"GOOGL\")\n",
    "df = ticker.history(period=\"10y\")\n",
    "#df.head(10)"
   ]
  },
  {
   "cell_type": "code",
   "execution_count": 3,
   "id": "7ead44ca",
   "metadata": {},
   "outputs": [],
   "source": [
    "# Split the data into a training set and a test set\n",
    "train_data = df[:-20]\n",
    "test_data = df[-20:]"
   ]
  },
  {
   "cell_type": "code",
   "execution_count": 4,
   "id": "2186950f",
   "metadata": {},
   "outputs": [],
   "source": [
    "# Extract the stock prices from the data and convert them to a numpy array\n",
    "X_train = np.array(train_data[\"Close\"]).reshape(-1, 1)\n",
    "y_train = np.array(train_data[\"Close\"]).reshape(-1, 1)\n",
    "X_test = np.array(test_data[\"Close\"]).reshape(-1, 1)\n",
    "y_test = np.array(test_data[\"Close\"]).reshape(-1, 1)"
   ]
  },
  {
   "cell_type": "code",
   "execution_count": 12,
   "id": "efeace4e",
   "metadata": {},
   "outputs": [
    {
     "data": {
      "text/plain": [
       "array([[17.75525475],\n",
       "       [17.7394886 ],\n",
       "       [17.67492485],\n",
       "       ...,\n",
       "       [97.43000031],\n",
       "       [95.59999847],\n",
       "       [97.05000305]])"
      ]
     },
     "execution_count": 12,
     "metadata": {},
     "output_type": "execute_result"
    }
   ],
   "source": [
    "X_train"
   ]
  },
  {
   "cell_type": "code",
   "execution_count": 13,
   "id": "eef7bd92",
   "metadata": {},
   "outputs": [
    {
     "data": {
      "text/plain": [
       "array([[17.75525475],\n",
       "       [17.7394886 ],\n",
       "       [17.67492485],\n",
       "       ...,\n",
       "       [97.43000031],\n",
       "       [95.59999847],\n",
       "       [97.05000305]])"
      ]
     },
     "execution_count": 13,
     "metadata": {},
     "output_type": "execute_result"
    }
   ],
   "source": [
    "y_train"
   ]
  },
  {
   "cell_type": "code",
   "execution_count": 5,
   "id": "761fdc78",
   "metadata": {},
   "outputs": [
    {
     "name": "stderr",
     "output_type": "stream",
     "text": [
      "C:\\Users\\RAFIKUL\\anaconda3\\envs\\tf\\lib\\site-packages\\ipykernel_launcher.py:3: DataConversionWarning: A column-vector y was passed when a 1d array was expected. Please change the shape of y to (n_samples,), for example using ravel().\n",
      "  This is separate from the ipykernel package so we can avoid doing imports until\n"
     ]
    },
    {
     "data": {
      "text/plain": [
       "RandomForestRegressor()"
      ]
     },
     "execution_count": 5,
     "metadata": {},
     "output_type": "execute_result"
    }
   ],
   "source": [
    "# Create a random forest regressor and train it on the data\n",
    "regressor = RandomForestRegressor()\n",
    "regressor.fit(X_train, y_train)"
   ]
  },
  {
   "cell_type": "code",
   "execution_count": 6,
   "id": "b44238c9",
   "metadata": {},
   "outputs": [],
   "source": [
    "# Use the regressor to make predictions on the test data\n",
    "predictions = regressor.predict(X_test)"
   ]
  },
  {
   "cell_type": "code",
   "execution_count": 7,
   "id": "aafbb368",
   "metadata": {},
   "outputs": [
    {
     "name": "stdout",
     "output_type": "stream",
     "text": [
      "Mean Absolute Error: 4.45\n"
     ]
    }
   ],
   "source": [
    "# Calculate the mean absolute error between the predictions and the actual values\n",
    "mae = np.mean(abs(predictions - y_test))\n",
    "print(f\"Mean Absolute Error: {mae:.2f}\")"
   ]
  },
  {
   "cell_type": "code",
   "execution_count": null,
   "id": "96219238",
   "metadata": {},
   "outputs": [],
   "source": [
    "# save the mode in .pkl format\n",
    "import pickle\n",
    "pickle.dump(model,open(\"G_Stock.pkl\",\"wb\"))"
   ]
  }
 ],
 "metadata": {
  "kernelspec": {
   "display_name": "Python 3 (ipykernel)",
   "language": "python",
   "name": "python3"
  },
  "language_info": {
   "codemirror_mode": {
    "name": "ipython",
    "version": 3
   },
   "file_extension": ".py",
   "mimetype": "text/x-python",
   "name": "python",
   "nbconvert_exporter": "python",
   "pygments_lexer": "ipython3",
   "version": "3.7.13"
  }
 },
 "nbformat": 4,
 "nbformat_minor": 5
}
